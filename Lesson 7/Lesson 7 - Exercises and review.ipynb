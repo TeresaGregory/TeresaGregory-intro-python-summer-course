{
 "cells": [
  {
   "cell_type": "markdown",
   "id": "ac04c14c",
   "metadata": {},
   "source": [
    "# Lesson 7 - Practice Exercises and Review\n",
    "\n",
    "This lesson will be used to clear any doubts you had on the lessons, review most of the concepts and most importantly, get you to practice some more advanced exercises with time limit.\n",
    "\n",
    "We will split the lesson into three sections:\n",
    "- Individual practice exercises.\n",
    "- Group/pair practice.\n",
    "- Discussion for final lesson and deliverable "
   ]
  },
  {
   "cell_type": "markdown",
   "id": "36b0810d",
   "metadata": {},
   "source": [
    "# Questions Time!\n",
    "- Questions about course, lectures, exercises.\n",
    "- Questions on more resources, where to go from here?"
   ]
  },
  {
   "cell_type": "markdown",
   "id": "f0899cde",
   "metadata": {},
   "source": [
    "## Solo practice exercises\n",
    "### Exercise 1 - 10 minutes\n",
    "- Build a number guessing mini game. Create a function that prompts the user to guess a number between 0 and 100 by using the `input()` function.\n",
    "- Help the user by telling them if the number should be higher or lower, using `print` statements.\n",
    "- Additional functionality: check for only integer numbers, show and error message if the input is not a integer. Show an error message if the number is outside of the desired range.\n",
    "\n",
    "### Exercise 2 - 10 minutes\n",
    "- Write a function that receives a list of integer numbers `is_even()`.\n",
    "- The function returns a boolean list that evaluates if the number is even or odd. If the number is even return `True` if the number is odd return `False`.\n",
    "- Document your function using a docstring. What's the expected input, what's the expected output?\n",
    "- Additional functionality (optional): make the function receive input from the user. Make the function check for only integer/number inputs. Make the function cast/convert float numbers into integers\n",
    "- Sample input: `[2, 4, 6, 7, 9, 11, 143, 45, 77, 12]\n",
    "- Expected output: `[True, True, True, False, False, False, False, False, False, True]\n",
    "\n",
    "### Exercise 3 - 10 minutes\n",
    "- Create a function `count_ocurrences()` that receives one parameter: A list of numbers. Numbers are not ordered and can be repeated.\n",
    "- Return a dictionary that contains the number of occurences of each number.\n",
    "- How would your code change if the list was ordered?\n",
    "- Additional functionality (optional): return a tuple consisting of a dictionary that contains the number of occurences of each number, a list that contains only unique values (values that don't repeat).\n",
    "- Sample input: `[10, 20, 25, 5, 7, 8, 11, 10, 20, 45, 55, 99, 7, 7,]`\n",
    "- Sample output: `{10: 2, 20: 2, 25: 1, 5: 1, 7: 3, 8: 1, 11: 1, 45: 1, 55:1, 99: 1}`\n",
    "\n",
    "### Exercise 4 - 10 minutes\n",
    "- Create a random password generator using a-z, A-Z, 0-9, and `!@#$%^&*()_?` symbols.\n",
    "- Create a function for this. It has two parameters: 1. length of password (minimum of 8). 2. Use special symbols or not in the password. Return the resulting password.\n",
    "- Sample output: `password(8, True)` => `u@9i!Yx# the password is strong`\n",
    "- Additional functionality: evaluate the strength of the password (note: this is not a \"true\" password strength calculator). If the password is not longer than 8 characters the password is weak. If the password is longer than 8 characters and contains at least one upper and lowercase letter combination the password is moderate. If the password is longer than 8 characters, contains upper and lowercase and has at least one number and symbol, the password is strong. Print out the resulting password and its strenght.\n",
    "\n",
    "## 5 minute break\n",
    "\n",
    "## Pair exercises\n",
    "Work and discuss in pairs. Ideally one would person would share screen and write the code (driver), while the other person reviews the code as it is being written (navigator). Switch roles frequently (ideally after every exercise).\n",
    "### Exercise 5 - 15 minutes\n",
    "- Create a function `two_dice()` that generates two random numbers each between 1 and 6. The function returns a tuple of numbers.\n",
    "- Run your function 100 times. Save the resulting pairs in a list. Sum your number pairs so you are left with a list of single numbers. e.g. `[(1, 3), (2, 4), (3, 3)]` => `[4, 6, 6]`\n",
    "- Plot the frequency of the numbers. Which is the most common number?\n",
    "- Sample output: `two_cube_dice()` -> (1, 3)\n",
    "- Additional functionality: Add the probability of each roll. The function would return the numbers rolled, and the probability of the roll using the sum of both numbers.\n",
    "- Sample output: `two_cube_dice()` -> (1, 3) probability of getting 4 is 8.3%\n",
    "- To calculate probability use: (event frequency)/(sample space). Our sample space for two six-sided dice is 36. For this you will need a sample outcome table similar to the one [found in this article](https://www.thoughtco.com/probabilities-of-rolling-two-dice-3126559)\n",
    "### Exercise 6 - 15 minutes\n",
    "- Using Pandas, read the [MPG csv dataset](https://raw.githubusercontent.com/mwaskom/seaborn-data/master/mpg.csv). It contains data about different older cars, its miles per gallon and other engine data. Create a new Dataframe.\n",
    "- Clean the dataset and check for null or empty values if any. Drop any empty values.\n",
    "- Show the top 5 most economic car models for Europe, USA an Japan (15 cars total). Create 3 different dataframes for this and combine them at the end.\n",
    "- Create a correlation matrix using the Pandas `.corr` method. Explain the relationship between any of the variables. Which are positively correlated? Which are negatively correlated?\n",
    "- Additional exercise: plot the horsepower, acceleration and mpg for cars with 4 cylinders. Annotate the highest and lowest values.\n",
    "### Exercise 7 - 10 minutes\n",
    "- Using the [tips dataset](https://raw.githubusercontent.com/mwaskom/seaborn-data/master/tips.csv) create a new dataframe. This dataset contains restaurant tip values, bill, smoker/non-smoker, day and time.\n",
    "- Using Pandas, find the day that people tip the most. Find the day that people tip the less. A useful function for this would be `groupby()`. Plot the average tip percentage of total bill by day.\n",
    "- Do smokers tip more than non-smokers in average? Calculate this relative to the total bill and percentage tipped. Plot smoker vs non-smoker data.\n",
    "\n",
    "## Additional time to talk about final lesson\n",
    "Final lesson will involve learning how to publish a Python package. Ideally you will have some functions relevant to the courses, research, interests you have. This would be the \"end project\" and end goal of this course. The key takeaway is that you leave this course with something useful and something to show.\n",
    "- Breakout room sessions. 2 people per room, can be same as practice session.\n",
    "- I will go through every room and we will discuss your ideas and potential functions for your package. Max of 5 minutes per room. Will circle back into the room if enough time is left."
   ]
  },
  {
   "cell_type": "code",
   "execution_count": null,
   "id": "9322d4ed",
   "metadata": {},
   "outputs": [],
   "source": []
  }
 ],
 "metadata": {
  "kernelspec": {
   "display_name": "Python 3 (ipykernel)",
   "language": "python",
   "name": "python3"
  },
  "language_info": {
   "codemirror_mode": {
    "name": "ipython",
    "version": 3
   },
   "file_extension": ".py",
   "mimetype": "text/x-python",
   "name": "python",
   "nbconvert_exporter": "python",
   "pygments_lexer": "ipython3",
   "version": "3.10.4"
  }
 },
 "nbformat": 4,
 "nbformat_minor": 5
}
