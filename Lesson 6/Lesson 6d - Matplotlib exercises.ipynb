{
 "cells": [
  {
   "cell_type": "markdown",
   "metadata": {},
   "source": [
    "# Exercises for participation credit\n",
    "\n",
    "- You will use the `planetary_data_2.csv` file and pandas to graph some data. Use this dataset for Exercise 1 and 2.\n",
    "- For exercise 3 you will need to use the `births.csv` dataset."
   ]
  },
  {
   "cell_type": "markdown",
   "metadata": {},
   "source": [
    "## Exercise 1\n",
    "- Graph with a scatter plot the density of planets\n",
    "- Add a title to your graph \"Density of planets\"\n",
    "- Add labels to your y and x axis.\n",
    "- Add one text annotation and one arrow annotation. Text annotation should show the planet with the lowest density. Arrow annotation should should the planet with the highest density."
   ]
  },
  {
   "cell_type": "markdown",
   "metadata": {},
   "source": [
    "## Exercise 2\n",
    "- Using a pie chart, plot the mass of the planets. You will need to search the Matplotlib documentation on how to create a pie chart.\n",
    "- Add a title \"Mass of planets\"."
   ]
  },
  {
   "cell_type": "markdown",
   "metadata": {},
   "source": [
    "## Exercise 3\n",
    "- Read the `births.csv` dataset using pandas.\n",
    "- Plot all the births by month for the year 1992. Annotate the lowest births number and the highest births number on your plot.\n",
    "- Create a stacked subplot. The top plot should contain the yearly births for the year 2000. The lower subplot should contain all the births for the year 2003. \n",
    "- Plot both 2000 and 2003 births but this time on a single plot. Add a legend, title, and axis label to this plot. "
   ]
  },
  {
   "cell_type": "code",
   "execution_count": null,
   "metadata": {},
   "outputs": [],
   "source": []
  }
 ],
 "metadata": {
  "kernelspec": {
   "display_name": "Python 3 (ipykernel)",
   "language": "python",
   "name": "python3"
  },
  "language_info": {
   "codemirror_mode": {
    "name": "ipython",
    "version": 3
   },
   "file_extension": ".py",
   "mimetype": "text/x-python",
   "name": "python",
   "nbconvert_exporter": "python",
   "pygments_lexer": "ipython3",
   "version": "3.10.4"
  }
 },
 "nbformat": 4,
 "nbformat_minor": 4
}
